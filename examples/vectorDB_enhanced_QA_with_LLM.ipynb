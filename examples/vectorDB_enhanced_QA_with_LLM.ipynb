{
 "cells": [
  {
   "cell_type": "code",
   "execution_count": null,
   "id": "04d4165c-fab2-4f54-9b50-11d53917d785",
   "metadata": {
    "ExecutionIndicator": {
     "show": true
    },
    "colab": {
     "base_uri": "https://localhost:8080/"
    },
    "id": "04d4165c-fab2-4f54-9b50-11d53917d785",
    "outputId": "4dc7eb61-39f0-4ea0-a0a7-ba1679af90cd",
    "tags": []
   },
   "outputs": [],
   "source": [
    "# install required packages\n",
    "!pip install dashvector dashscope\n",
    "!pip install transformers_stream_generator python-dotenv"
   ]
  },
  {
   "cell_type": "code",
   "execution_count": null,
   "id": "0ca135ac-b1b0-47b9-ad25-a0d11ac884f3",
   "metadata": {
    "ExecutionIndicator": {
     "show": true
    },
    "colab": {
     "base_uri": "https://localhost:8080/"
    },
    "id": "0ca135ac-b1b0-47b9-ad25-a0d11ac884f3",
    "outputId": "6d3a33eb-5d42-4f56-ee73-b089e83bde50",
    "tags": []
   },
   "outputs": [],
   "source": [
    "# prepare news corpus as knowledge source\n",
    "!git clone https://ghproxy.com/https://github.com/shijiebei2009/CEC-Corpus.git"
   ]
  },
  {
   "cell_type": "code",
   "execution_count": 2,
   "id": "728a2bf5-905c-48ef-b70a-be53d4f8fcc0",
   "metadata": {
    "ExecutionIndicator": {
     "show": false
    },
    "execution": {
     "iopub.execute_input": "2023-08-30T13:48:52.593255Z",
     "iopub.status.busy": "2023-08-30T13:48:52.592913Z",
     "iopub.status.idle": "2023-08-30T13:49:05.331115Z",
     "shell.execute_reply": "2023-08-30T13:49:05.330469Z",
     "shell.execute_reply.started": "2023-08-30T13:48:52.593233Z"
    },
    "id": "728a2bf5-905c-48ef-b70a-be53d4f8fcc0",
    "tags": []
   },
   "outputs": [],
   "source": [
    "import dashscope\n",
    "import os\n",
    "from dashscope import TextEmbedding\n",
    "from dashvector import Client, Doc\n",
    "\n",
    "# [Note: get your DashScope API key here first: https://dashscope.console.aliyun.com/apiKey]\n",
    "dashscope.api_key='YOUR-DASHSCOPE-API-KEY'\n",
    "\n",
    "# 初始化 DashVector client\n",
    "# [Note: get your DashVector API key here first: https://dashvector.console.aliyun.com/cn-hangzhou/api-key]\n",
    "dashvector_client = Client(api_key='YOUR-DASHSCOPE-API-KEY')\n",
    "\n",
    "# define collection name\n",
    "collection_name = 'news_embeddings'\n",
    "\n",
    "# delete if already exist\n",
    "dashvector_client.delete(collection_name)\n",
    "\n",
    "# create a collection with embedding size of 1536\n",
    "rsp = dashvector_client.create(collection_name, 1536)\n",
    "collection = dashvector_client.get(collection_name)\n"
   ]
  },
  {
   "cell_type": "code",
   "execution_count": 3,
   "id": "558b64ab-1fdf-4339-8368-97e67bef8159",
   "metadata": {
    "ExecutionIndicator": {
     "show": false
    },
    "execution": {
     "iopub.execute_input": "2023-08-30T13:49:10.193450Z",
     "iopub.status.busy": "2023-08-30T13:49:10.192941Z",
     "iopub.status.idle": "2023-08-30T13:49:10.198183Z",
     "shell.execute_reply": "2023-08-30T13:49:10.197609Z",
     "shell.execute_reply.started": "2023-08-30T13:49:10.193418Z"
    },
    "id": "558b64ab-1fdf-4339-8368-97e67bef8159",
    "tags": []
   },
   "outputs": [],
   "source": [
    "def prepare_data_from_dir(path, size):\n",
    "    # prepare the data from a file folder in order to upsert to DashVector with a reasonable doc's size.\n",
    "    batch_docs = []\n",
    "    for file in os.listdir(path):\n",
    "        with open(path + '/' + file, 'r', encoding='utf-8') as f:\n",
    "            batch_docs.append(f.read())\n",
    "            if len(batch_docs) == size:\n",
    "                yield batch_docs[:]\n",
    "                batch_docs.clear()\n",
    "\n",
    "    if batch_docs:\n",
    "        yield batch_docs"
   ]
  },
  {
   "cell_type": "code",
   "execution_count": 4,
   "id": "d65c0f3f-a080-4803-b5ed-f4e641a96db2",
   "metadata": {
    "ExecutionIndicator": {
     "show": false
    },
    "execution": {
     "iopub.execute_input": "2023-08-30T13:49:12.547598Z",
     "iopub.status.busy": "2023-08-30T13:49:12.547043Z",
     "iopub.status.idle": "2023-08-30T13:49:12.552606Z",
     "shell.execute_reply": "2023-08-30T13:49:12.552035Z",
     "shell.execute_reply.started": "2023-08-30T13:49:12.547546Z"
    },
    "id": "d65c0f3f-a080-4803-b5ed-f4e641a96db2",
    "tags": []
   },
   "outputs": [],
   "source": [
    "def prepare_data_from_file(path, size):\n",
    "    # prepare the data from file in order to upsert to DashVector with a reasonable doc's size.\n",
    "    batch_docs = []\n",
    "    chunk_size = 12\n",
    "    with open(path, 'r', encoding='utf-8') as f:\n",
    "        doc = ''\n",
    "        count = 0\n",
    "        for line in f:\n",
    "            if count < chunk_size and line.strip() != '':\n",
    "                doc += line\n",
    "                count += 1\n",
    "            if count == chunk_size:\n",
    "                batch_docs.append(doc)\n",
    "                if len(batch_docs) == size:\n",
    "                    yield batch_docs[:]\n",
    "                    batch_docs.clear()\n",
    "                doc = ''\n",
    "                count = 0\n",
    "\n",
    "    if batch_docs:\n",
    "        yield batch_docs"
   ]
  },
  {
   "cell_type": "code",
   "execution_count": 5,
   "id": "aded6eec-1f05-479e-9f0e-3ce63872a07b",
   "metadata": {
    "ExecutionIndicator": {
     "show": true
    },
    "execution": {
     "iopub.execute_input": "2023-08-30T13:49:15.633678Z",
     "iopub.status.busy": "2023-08-30T13:49:15.632995Z",
     "iopub.status.idle": "2023-08-30T13:49:15.637454Z",
     "shell.execute_reply": "2023-08-30T13:49:15.636916Z",
     "shell.execute_reply.started": "2023-08-30T13:49:15.633648Z"
    },
    "id": "aded6eec-1f05-479e-9f0e-3ce63872a07b",
    "tags": []
   },
   "outputs": [],
   "source": [
    "def generate_embeddings(docs):\n",
    "    # create embeddings via DashScope's TextEmbedding model API\n",
    "    rsp = TextEmbedding.call(model=TextEmbedding.Models.text_embedding_v1,\n",
    "                             input=docs)\n",
    "    embeddings = [record['embedding'] for record in rsp.output['embeddings']]\n",
    "    return embeddings if isinstance(docs, list) else embeddings[0]"
   ]
  },
  {
   "cell_type": "code",
   "execution_count": 6,
   "id": "5c0ba7e1-001f-4bb9-9bdb-7eb318bc3550",
   "metadata": {
    "ExecutionIndicator": {
     "show": true
    },
    "colab": {
     "base_uri": "https://localhost:8080/"
    },
    "execution": {
     "iopub.execute_input": "2023-08-30T13:49:18.803552Z",
     "iopub.status.busy": "2023-08-30T13:49:18.802898Z",
     "iopub.status.idle": "2023-08-30T13:49:41.811243Z",
     "shell.execute_reply": "2023-08-30T13:49:41.810628Z",
     "shell.execute_reply.started": "2023-08-30T13:49:18.803521Z"
    },
    "id": "5c0ba7e1-001f-4bb9-9bdb-7eb318bc3550",
    "outputId": "19fb3258-756f-4413-a062-ce66c2474f9f",
    "tags": []
   },
   "outputs": [
    {
     "name": "stdout",
     "output_type": "stream",
     "text": [
      "{\"code\": 0, \"message\": \"Success\", \"requests_id\": \"caec6c1e-ce9f-4a70-b080-4c9d455aecc3\"}\n",
      "{\"code\": 0, \"message\": \"Success\", \"requests_id\": \"94282933-35df-4e4a-9b31-f4e1e52909d3\"}\n",
      "{\"code\": 0, \"message\": \"Success\", \"requests_id\": \"8c44b3b7-c742-4232-880f-bf708ef44ff4\"}\n",
      "{\"code\": 0, \"message\": \"Success\", \"requests_id\": \"861912f1-6a64-48aa-9a16-9eb2bd383b78\"}\n",
      "{\"code\": 0, \"message\": \"Success\", \"requests_id\": \"a8cab2c9-c8a0-4810-9205-7e5718e6500b\"}\n",
      "{\"code\": 0, \"message\": \"Success\", \"requests_id\": \"7a6b30e8-2391-4505-bb7a-74f4257aeb55\"}\n",
      "{\"code\": 0, \"message\": \"Success\", \"requests_id\": \"230f7af3-503c-4911-a9d9-7f889130eaa3\"}\n",
      "{\"code\": 0, \"message\": \"Success\", \"requests_id\": \"e94b9b95-36b3-4ed3-8b94-a4582fc4543d\"}\n",
      "{\"code\": 0, \"message\": \"Success\", \"requests_id\": \"22774357-9e21-4b36-8928-b9f3fb83fc50\"}\n",
      "{\"code\": 0, \"message\": \"Success\", \"requests_id\": \"3c8d2b3e-6877-44db-8207-faffafabbe2b\"}\n",
      "{\"code\": 0, \"message\": \"Success\", \"requests_id\": \"7718ffff-8d66-4b8a-9dd5-cde9bf758b38\"}\n",
      "{\"code\": 0, \"message\": \"Success\", \"requests_id\": \"581dcbd5-c963-457c-be03-274fe8506c54\"}\n",
      "{\"code\": 0, \"message\": \"Success\", \"requests_id\": \"c2814c22-a75b-4a6c-82ab-06980d1c463a\"}\n",
      "{\"code\": 0, \"message\": \"Success\", \"requests_id\": \"797c90ce-e732-48b5-856e-870de3738473\"}\n",
      "{\"code\": 0, \"message\": \"Success\", \"requests_id\": \"f85fd2df-14c5-4708-9333-b171bfea7777\"}\n",
      "{\"code\": 0, \"message\": \"Success\", \"requests_id\": \"54a45f5d-e348-452e-a726-7ef5f29485f3\"}\n",
      "{\"code\": 0, \"message\": \"Success\", \"requests_id\": \"775162a4-bad7-40db-a999-d0aecf2ba6f7\"}\n"
     ]
    }
   ],
   "source": [
    "# create embeddings and insert them into DashVector.\n",
    "# Note: this may take a while (up to 5 mins) to run.\n",
    "\n",
    "id = 0\n",
    "dir_name = 'CEC-Corpus/raw corpus/allSourceText'\n",
    "\n",
    "# indexing the raw docs with index to DashVector\n",
    "collection = dashvector_client.get(collection_name)\n",
    "\n",
    "batch_size = 20\n",
    "\n",
    "for news in list(prepare_data_from_dir(dir_name, batch_size)):\n",
    "    ids = [id + i for i, _ in enumerate(news)]\n",
    "    id += len(news)\n",
    "    # generate embedding from raw docs\n",
    "    vectors = generate_embeddings(news)\n",
    "    # upsert and index\n",
    "    ret = collection.upsert(\n",
    "        [\n",
    "            Doc(id=str(id), vector=vector, fields={\"raw\": doc})\n",
    "            for id, doc, vector in zip(ids, news, vectors)\n",
    "        ]\n",
    "    )\n",
    "    print(ret)\n"
   ]
  },
  {
   "cell_type": "code",
   "execution_count": 7,
   "id": "53bed7e4-35be-4df6-8775-7d62fcdb6457",
   "metadata": {
    "ExecutionIndicator": {
     "show": true
    },
    "colab": {
     "base_uri": "https://localhost:8080/"
    },
    "execution": {
     "iopub.execute_input": "2023-08-30T13:49:51.144622Z",
     "iopub.status.busy": "2023-08-30T13:49:51.144071Z",
     "iopub.status.idle": "2023-08-30T13:49:51.160107Z",
     "shell.execute_reply": "2023-08-30T13:49:51.159533Z",
     "shell.execute_reply.started": "2023-08-30T13:49:51.144590Z"
    },
    "id": "53bed7e4-35be-4df6-8775-7d62fcdb6457",
    "outputId": "6b372643-eea9-4066-e094-232aca8a4d81",
    "tags": []
   },
   "outputs": [
    {
     "name": "stdout",
     "output_type": "stream",
     "text": [
      "{\"code\": 0, \"message\": \"Success\", \"requests_id\": \"cbb508ac-0d40-464a-b6fe-1351e99f0637\", \"output\": {\"total_doc_count\": 332, \"index_completeness\": 1.0, \"partitions\": {\"default\": {\"total_doc_count\": 332}}}}\n"
     ]
    }
   ],
   "source": [
    "# check the collection status\n",
    "collection = dashvector_client.get(collection_name)\n",
    "rsp = collection.stats()\n",
    "print(rsp)"
   ]
  },
  {
   "cell_type": "code",
   "execution_count": 8,
   "id": "41e54ddd-145d-49c3-ade4-4a46dc34e07b",
   "metadata": {
    "ExecutionIndicator": {
     "show": true
    },
    "execution": {
     "iopub.execute_input": "2023-08-30T13:49:54.625672Z",
     "iopub.status.busy": "2023-08-30T13:49:54.625099Z",
     "iopub.status.idle": "2023-08-30T13:49:54.629673Z",
     "shell.execute_reply": "2023-08-30T13:49:54.629110Z",
     "shell.execute_reply.started": "2023-08-30T13:49:54.625641Z"
    },
    "id": "41e54ddd-145d-49c3-ade4-4a46dc34e07b",
    "tags": []
   },
   "outputs": [],
   "source": [
    "def search_relevant_context(question, topk=1, client=dashvector_client):\n",
    "    # query and recall the relevant information\n",
    "    collection = client.get(collection_name)\n",
    "\n",
    "    # recall the top k similarity results from DashVector\n",
    "    rsp = collection.query(generate_embeddings(question), output_fields=['raw'],\n",
    "                           topk=topk)\n",
    "    return \"\".join([item.fields['raw'] for item in rsp.output])"
   ]
  },
  {
   "cell_type": "code",
   "execution_count": 9,
   "id": "2f5a1bcb-e83a-44d3-bbe4-f97437782a3b",
   "metadata": {
    "ExecutionIndicator": {
     "show": true
    },
    "execution": {
     "iopub.execute_input": "2023-08-30T13:55:01.147555Z",
     "iopub.status.busy": "2023-08-30T13:55:01.147223Z",
     "iopub.status.idle": "2023-08-30T13:55:01.151471Z",
     "shell.execute_reply": "2023-08-30T13:55:01.150964Z",
     "shell.execute_reply.started": "2023-08-30T13:55:01.147535Z"
    },
    "id": "2f5a1bcb-e83a-44d3-bbe4-f97437782a3b",
    "tags": []
   },
   "outputs": [],
   "source": [
    "import dashscope\n",
    "import textwrap\n",
    "from dashscope import Generation\n",
    "\n",
    "# define a prompt template for the vectorDB-enhanced LLM generation\n",
    "def answer_question(model_name, question, context):\n",
    "    text = f'''请基于```内的内容回答问题。\"\n",
    "\t```\n",
    "\t{context}\n",
    "\t```\n",
    "\t我的问题是：{question}。\n",
    "    '''\n",
    "    #ziya prompt\n",
    "    #prompt=f'<human>:{text}\\n<bot>:'\n",
    "    \n",
    "    #qwen prompt\n",
    "    #ChatGLM prompt\n",
    "    #baichuan prompt\n",
    "    prompt = text\n",
    "    \n",
    "    response = Generation.call(\n",
    "      model= model_name,\n",
    "      prompt=prompt,\n",
    "      #for ChatGLM,history is required\n",
    "      #history=[]\n",
    "    )\n",
    "    #print(prompt)\n",
    "    return response.output['text']"
   ]
  },
  {
   "cell_type": "code",
   "execution_count": 10,
   "id": "75ac8f4a-a861-4376-9e55-ebefef9a9cd6",
   "metadata": {
    "ExecutionIndicator": {
     "show": true
    },
    "colab": {
     "base_uri": "https://localhost:8080/"
    },
    "execution": {
     "iopub.execute_input": "2023-08-30T13:55:03.918326Z",
     "iopub.status.busy": "2023-08-30T13:55:03.918003Z",
     "iopub.status.idle": "2023-08-30T13:55:05.211197Z",
     "shell.execute_reply": "2023-08-30T13:55:05.210690Z",
     "shell.execute_reply.started": "2023-08-30T13:55:03.918307Z"
    },
    "id": "75ac8f4a-a861-4376-9e55-ebefef9a9cd6",
    "outputId": "930083df-bb63-4f4f-dc44-e86a7a6b698f",
    "tags": []
   },
   "outputs": [
    {
     "name": "stdout",
     "output_type": "stream",
     "text": [
      "问题: 海南安定追尾事故，发生在哪里？原因是什么？人员伤亡情况如何？\n",
      "回答: 很抱歉，我无法提供关于该事故的最新信息。请您查阅可靠的新闻来源以获取最新信息。\n"
     ]
    }
   ],
   "source": [
    "# test Q&A on plain LLM without vectorDB enhancement\n",
    "model_name = 'qwen-7b-chat-v1'\n",
    "question = '海南安定追尾事故，发生在哪里？原因是什么？人员伤亡情况如何？'\n",
    "answer = answer_question(model_name, question, '')\n",
    "print(f'问题: {question}\\n' f'回答: {textwrap.fill(answer, width=50)}')"
   ]
  },
  {
   "cell_type": "code",
   "execution_count": 11,
   "id": "eca328fc-cd69-4e12-8448-f426f3314414",
   "metadata": {
    "ExecutionIndicator": {
     "show": true
    },
    "colab": {
     "base_uri": "https://localhost:8080/"
    },
    "execution": {
     "iopub.execute_input": "2023-08-30T13:55:09.755613Z",
     "iopub.status.busy": "2023-08-30T13:55:09.755243Z",
     "iopub.status.idle": "2023-08-30T13:55:12.644675Z",
     "shell.execute_reply": "2023-08-30T13:55:12.644115Z",
     "shell.execute_reply.started": "2023-08-30T13:55:09.755566Z"
    },
    "id": "eca328fc-cd69-4e12-8448-f426f3314414",
    "outputId": "9e65cc19-cb02-4606-da95-c7821e7c2c21",
    "tags": []
   },
   "outputs": [
    {
     "name": "stdout",
     "output_type": "stream",
     "text": [
      "问题: 海南安定追尾事故，发生在哪里？原因是什么？人员伤亡情况如何？\n",
      "回答: 海南安定追尾事故发生在海南省定安县境内，环岛东线高速公路海口往三亚方向53公里处。原因是琼AB711\n",
      "9小轿车驾驶人追尾所致。该事故造成小轿车人员5人当场死亡，其中一人为未成年人。\n"
     ]
    }
   ],
   "source": [
    "# test Q&A with knowledge enhancement through DashVector\n",
    "context = search_relevant_context(question, topk=2)\n",
    "answer = answer_question(model_name, question, context)\n",
    "#for qwen,ziya,baichuan answer\n",
    "print(f'问题: {question}\\n' f'回答: {textwrap.fill(answer, width=50)}')\n",
    "#for ChatGLM answer\n",
    "#print(f'问题: {question}\\n' f\"\"\"回答：{answer['response']}\"\"\")"
   ]
  }
 ],
 "metadata": {
  "colab": {
   "provenance": []
  },
  "kernelspec": {
   "display_name": "Python 3 (ipykernel)",
   "language": "python",
   "name": "python3"
  },
  "language_info": {
   "codemirror_mode": {
    "name": "ipython",
    "version": 3
   },
   "file_extension": ".py",
   "mimetype": "text/x-python",
   "name": "python",
   "nbconvert_exporter": "python",
   "pygments_lexer": "ipython3",
   "version": "3.8.16"
  }
 },
 "nbformat": 4,
 "nbformat_minor": 5
}
